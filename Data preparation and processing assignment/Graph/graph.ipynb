{
 "cells": [
  {
   "cell_type": "markdown",
   "metadata": {
    "id": "k25KbomOPh94"
   },
   "source": [
    "# **Unveiling the Secrets of Molecules: A Graph-Based Machine Learning Odyssey with GPT-4 and PyTorch Geometric**"
   ]
  },
  {
   "cell_type": "markdown",
   "metadata": {
    "id": "trI44VfIPkOk"
   },
   "source": [
    "In the realm of computational biology and chemistry, the quest to unravel the mysteries hidden within the molecular structures of proteins and enzymes is an ever-evolving challenge. With the advent of powerful machine learning frameworks and models like GPT-4, we find ourselves armed with tools capable of revolutionizing our understanding of molecular properties and functions.\n",
    "\n",
    "In this article, we embark on a journey to explore the intricacies of molecules through the lens of graph-based machine learning. Leveraging the prowess of PyTorch Geometric, a robust library for geometric deep learning, alongside the innovative capabilities of GPT-4, we curate a pathway to effectively analyze, model, and predict molecular properties.\n",
    "\n",
    "We will guide you through each pivotal step of the process - from the nuanced art of data preparation, exploratory data analysis, to the careful crafting of graph neural networks. Witness the synergy between the structured realm of graphs, representing molecular connections, and the transformative potential of GPT-4 as we navigate through model training, evaluation, and refinement strategies.\n",
    "\n",
    "Join us in unraveling the coded language of molecules, enhancing our predictive proficiencies, and uncovering the hidden patterns and relationships that reside within the complex architectures of molecular graphs."
   ]
  },
  {
   "cell_type": "markdown",
   "metadata": {
    "id": "a7qzzgOgLiTT"
   },
   "source": [
    "Let's start by loading the data. After loading the data, we will explore its basic characteristics such as the number of rows and columns, column names, and data types. We'll also take a look at some sample records to understand the data better."
   ]
  },
  {
   "cell_type": "code",
   "execution_count": 3,
   "metadata": {
    "colab": {
     "base_uri": "https://localhost:8080/"
    },
    "id": "RhHWXLD_J7HF",
    "outputId": "28a731d1-c286-4046-9f8c-9d0988b83c74"
   },
   "outputs": [
    {
     "name": "stdout",
     "output_type": "stream",
     "text": [
      "<class 'pandas.core.frame.DataFrame'>\n",
      "RangeIndex: 1113 entries, 0 to 1112\n",
      "Data columns (total 4 columns):\n",
      " #   Column      Non-Null Count  Dtype \n",
      "---  ------      --------------  ----- \n",
      " 0   edge_index  1113 non-null   object\n",
      " 1   node_feat   1113 non-null   object\n",
      " 2   y           1113 non-null   object\n",
      " 3   num_nodes   1113 non-null   int64 \n",
      "dtypes: int64(1), object(3)\n",
      "memory usage: 34.9+ KB\n"
     ]
    },
    {
     "data": {
      "text/plain": [
       "(None,\n",
       "                                           edge_index  \\\n",
       " 0  [[0, 0, 0, 1, 1, 1, 2, 2, 2, 3, 3, 3, 3, 3, 4,...   \n",
       " 1  [[0, 0, 0, 1, 1, 1, 2, 2, 2, 2, 3, 3, 3, 3, 4,...   \n",
       " 2  [[0, 0, 0, 1, 1, 1, 2, 2, 2, 2, 3, 3, 3, 4, 4,...   \n",
       " 3  [[0, 0, 0, 1, 1, 1, 1, 2, 2, 2, 2, 3, 3, 3, 3,...   \n",
       " 4  [[0, 0, 0, 0, 1, 1, 1, 1, 1, 2, 2, 2, 3, 3, 3,...   \n",
       " \n",
       "                                            node_feat    y  num_nodes  \n",
       " 0  [[1.0, 0.0, 0.0], [1.0, 0.0, 0.0], [1.0, 0.0, ...  [0]         42  \n",
       " 1  [[1.0, 0.0, 0.0], [1.0, 0.0, 0.0], [1.0, 0.0, ...  [0]         27  \n",
       " 2  [[1.0, 0.0, 0.0], [1.0, 0.0, 0.0], [1.0, 0.0, ...  [0]         10  \n",
       " 3  [[1.0, 0.0, 0.0], [1.0, 0.0, 0.0], [1.0, 0.0, ...  [0]         24  \n",
       " 4  [[1.0, 0.0, 0.0], [1.0, 0.0, 0.0], [1.0, 0.0, ...  [0]         11  )"
      ]
     },
     "execution_count": 3,
     "metadata": {},
     "output_type": "execute_result"
    }
   ],
   "source": [
    "import pandas as pd\n",
    "\n",
    "# Load the JSON Lines file into a pandas DataFrame\n",
    "file_path = '/content/full.jsonl'\n",
    "data = pd.read_json(file_path, lines=True)\n",
    "\n",
    "# Display basic information and the first few rows of the DataFrame\n",
    "data.info(), data.head()\n"
   ]
  },
  {
   "cell_type": "markdown",
   "metadata": {
    "id": "ROTBRg7sL1XZ"
   },
   "source": [
    "The dataset contains 1113 rows and 4 columns. Here’s a brief description of each column:\n",
    "\n",
    "edge_index: Contains edge information, likely defining connections between nodes in a graph.\n",
    "node_feat: Contains features of the nodes in the graph.\n",
    "y: Appears to be the target variable.\n",
    "num_nodes: Contains the number of nodes in each graph.\n",
    "The edge_index and node_feat columns contain nested lists, and the y column contains single-element lists.\n",
    "\n",
    "For better handling and analysis, we might want to consider flattening the y column. Additionally, since the data seems to be graph-based with edge and node information, standard tabular data analysis methods might not be directly applicable."
   ]
  },
  {
   "cell_type": "code",
   "execution_count": 4,
   "metadata": {
    "colab": {
     "base_uri": "https://localhost:8080/",
     "height": 204
    },
    "id": "ptmQihl5MdVc",
    "outputId": "f23c30aa-5b62-4061-de70-c20276a036d9"
   },
   "outputs": [
    {
     "data": {
      "text/html": [
       "\n",
       "  <div id=\"df-b056c0a5-0bdf-48f3-b0a7-5750eb188ece\" class=\"colab-df-container\">\n",
       "    <div>\n",
       "<style scoped>\n",
       "    .dataframe tbody tr th:only-of-type {\n",
       "        vertical-align: middle;\n",
       "    }\n",
       "\n",
       "    .dataframe tbody tr th {\n",
       "        vertical-align: top;\n",
       "    }\n",
       "\n",
       "    .dataframe thead th {\n",
       "        text-align: right;\n",
       "    }\n",
       "</style>\n",
       "<table border=\"1\" class=\"dataframe\">\n",
       "  <thead>\n",
       "    <tr style=\"text-align: right;\">\n",
       "      <th></th>\n",
       "      <th>edge_index</th>\n",
       "      <th>node_feat</th>\n",
       "      <th>y</th>\n",
       "      <th>num_nodes</th>\n",
       "    </tr>\n",
       "  </thead>\n",
       "  <tbody>\n",
       "    <tr>\n",
       "      <th>0</th>\n",
       "      <td>[[0, 0, 0, 1, 1, 1, 2, 2, 2, 3, 3, 3, 3, 3, 4,...</td>\n",
       "      <td>[[1.0, 0.0, 0.0], [1.0, 0.0, 0.0], [1.0, 0.0, ...</td>\n",
       "      <td>0</td>\n",
       "      <td>42</td>\n",
       "    </tr>\n",
       "    <tr>\n",
       "      <th>1</th>\n",
       "      <td>[[0, 0, 0, 1, 1, 1, 2, 2, 2, 2, 3, 3, 3, 3, 4,...</td>\n",
       "      <td>[[1.0, 0.0, 0.0], [1.0, 0.0, 0.0], [1.0, 0.0, ...</td>\n",
       "      <td>0</td>\n",
       "      <td>27</td>\n",
       "    </tr>\n",
       "    <tr>\n",
       "      <th>2</th>\n",
       "      <td>[[0, 0, 0, 1, 1, 1, 2, 2, 2, 2, 3, 3, 3, 4, 4,...</td>\n",
       "      <td>[[1.0, 0.0, 0.0], [1.0, 0.0, 0.0], [1.0, 0.0, ...</td>\n",
       "      <td>0</td>\n",
       "      <td>10</td>\n",
       "    </tr>\n",
       "    <tr>\n",
       "      <th>3</th>\n",
       "      <td>[[0, 0, 0, 1, 1, 1, 1, 2, 2, 2, 2, 3, 3, 3, 3,...</td>\n",
       "      <td>[[1.0, 0.0, 0.0], [1.0, 0.0, 0.0], [1.0, 0.0, ...</td>\n",
       "      <td>0</td>\n",
       "      <td>24</td>\n",
       "    </tr>\n",
       "    <tr>\n",
       "      <th>4</th>\n",
       "      <td>[[0, 0, 0, 0, 1, 1, 1, 1, 1, 2, 2, 2, 3, 3, 3,...</td>\n",
       "      <td>[[1.0, 0.0, 0.0], [1.0, 0.0, 0.0], [1.0, 0.0, ...</td>\n",
       "      <td>0</td>\n",
       "      <td>11</td>\n",
       "    </tr>\n",
       "  </tbody>\n",
       "</table>\n",
       "</div>\n",
       "    <div class=\"colab-df-buttons\">\n",
       "\n",
       "  <div class=\"colab-df-container\">\n",
       "    <button class=\"colab-df-convert\" onclick=\"convertToInteractive('df-b056c0a5-0bdf-48f3-b0a7-5750eb188ece')\"\n",
       "            title=\"Convert this dataframe to an interactive table.\"\n",
       "            style=\"display:none;\">\n",
       "\n",
       "  <svg xmlns=\"http://www.w3.org/2000/svg\" height=\"24px\" viewBox=\"0 -960 960 960\">\n",
       "    <path d=\"M120-120v-720h720v720H120Zm60-500h600v-160H180v160Zm220 220h160v-160H400v160Zm0 220h160v-160H400v160ZM180-400h160v-160H180v160Zm440 0h160v-160H620v160ZM180-180h160v-160H180v160Zm440 0h160v-160H620v160Z\"/>\n",
       "  </svg>\n",
       "    </button>\n",
       "\n",
       "  <style>\n",
       "    .colab-df-container {\n",
       "      display:flex;\n",
       "      gap: 12px;\n",
       "    }\n",
       "\n",
       "    .colab-df-convert {\n",
       "      background-color: #E8F0FE;\n",
       "      border: none;\n",
       "      border-radius: 50%;\n",
       "      cursor: pointer;\n",
       "      display: none;\n",
       "      fill: #1967D2;\n",
       "      height: 32px;\n",
       "      padding: 0 0 0 0;\n",
       "      width: 32px;\n",
       "    }\n",
       "\n",
       "    .colab-df-convert:hover {\n",
       "      background-color: #E2EBFA;\n",
       "      box-shadow: 0px 1px 2px rgba(60, 64, 67, 0.3), 0px 1px 3px 1px rgba(60, 64, 67, 0.15);\n",
       "      fill: #174EA6;\n",
       "    }\n",
       "\n",
       "    .colab-df-buttons div {\n",
       "      margin-bottom: 4px;\n",
       "    }\n",
       "\n",
       "    [theme=dark] .colab-df-convert {\n",
       "      background-color: #3B4455;\n",
       "      fill: #D2E3FC;\n",
       "    }\n",
       "\n",
       "    [theme=dark] .colab-df-convert:hover {\n",
       "      background-color: #434B5C;\n",
       "      box-shadow: 0px 1px 3px 1px rgba(0, 0, 0, 0.15);\n",
       "      filter: drop-shadow(0px 1px 2px rgba(0, 0, 0, 0.3));\n",
       "      fill: #FFFFFF;\n",
       "    }\n",
       "  </style>\n",
       "\n",
       "    <script>\n",
       "      const buttonEl =\n",
       "        document.querySelector('#df-b056c0a5-0bdf-48f3-b0a7-5750eb188ece button.colab-df-convert');\n",
       "      buttonEl.style.display =\n",
       "        google.colab.kernel.accessAllowed ? 'block' : 'none';\n",
       "\n",
       "      async function convertToInteractive(key) {\n",
       "        const element = document.querySelector('#df-b056c0a5-0bdf-48f3-b0a7-5750eb188ece');\n",
       "        const dataTable =\n",
       "          await google.colab.kernel.invokeFunction('convertToInteractive',\n",
       "                                                    [key], {});\n",
       "        if (!dataTable) return;\n",
       "\n",
       "        const docLinkHtml = 'Like what you see? Visit the ' +\n",
       "          '<a target=\"_blank\" href=https://colab.research.google.com/notebooks/data_table.ipynb>data table notebook</a>'\n",
       "          + ' to learn more about interactive tables.';\n",
       "        element.innerHTML = '';\n",
       "        dataTable['output_type'] = 'display_data';\n",
       "        await google.colab.output.renderOutput(dataTable, element);\n",
       "        const docLink = document.createElement('div');\n",
       "        docLink.innerHTML = docLinkHtml;\n",
       "        element.appendChild(docLink);\n",
       "      }\n",
       "    </script>\n",
       "  </div>\n",
       "\n",
       "\n",
       "<div id=\"df-422b0d2f-fc2b-465e-930c-2da6e0ceb87b\">\n",
       "  <button class=\"colab-df-quickchart\" onclick=\"quickchart('df-422b0d2f-fc2b-465e-930c-2da6e0ceb87b')\"\n",
       "            title=\"Suggest charts.\"\n",
       "            style=\"display:none;\">\n",
       "\n",
       "<svg xmlns=\"http://www.w3.org/2000/svg\" height=\"24px\"viewBox=\"0 0 24 24\"\n",
       "     width=\"24px\">\n",
       "    <g>\n",
       "        <path d=\"M19 3H5c-1.1 0-2 .9-2 2v14c0 1.1.9 2 2 2h14c1.1 0 2-.9 2-2V5c0-1.1-.9-2-2-2zM9 17H7v-7h2v7zm4 0h-2V7h2v10zm4 0h-2v-4h2v4z\"/>\n",
       "    </g>\n",
       "</svg>\n",
       "  </button>\n",
       "\n",
       "<style>\n",
       "  .colab-df-quickchart {\n",
       "      --bg-color: #E8F0FE;\n",
       "      --fill-color: #1967D2;\n",
       "      --hover-bg-color: #E2EBFA;\n",
       "      --hover-fill-color: #174EA6;\n",
       "      --disabled-fill-color: #AAA;\n",
       "      --disabled-bg-color: #DDD;\n",
       "  }\n",
       "\n",
       "  [theme=dark] .colab-df-quickchart {\n",
       "      --bg-color: #3B4455;\n",
       "      --fill-color: #D2E3FC;\n",
       "      --hover-bg-color: #434B5C;\n",
       "      --hover-fill-color: #FFFFFF;\n",
       "      --disabled-bg-color: #3B4455;\n",
       "      --disabled-fill-color: #666;\n",
       "  }\n",
       "\n",
       "  .colab-df-quickchart {\n",
       "    background-color: var(--bg-color);\n",
       "    border: none;\n",
       "    border-radius: 50%;\n",
       "    cursor: pointer;\n",
       "    display: none;\n",
       "    fill: var(--fill-color);\n",
       "    height: 32px;\n",
       "    padding: 0;\n",
       "    width: 32px;\n",
       "  }\n",
       "\n",
       "  .colab-df-quickchart:hover {\n",
       "    background-color: var(--hover-bg-color);\n",
       "    box-shadow: 0 1px 2px rgba(60, 64, 67, 0.3), 0 1px 3px 1px rgba(60, 64, 67, 0.15);\n",
       "    fill: var(--button-hover-fill-color);\n",
       "  }\n",
       "\n",
       "  .colab-df-quickchart-complete:disabled,\n",
       "  .colab-df-quickchart-complete:disabled:hover {\n",
       "    background-color: var(--disabled-bg-color);\n",
       "    fill: var(--disabled-fill-color);\n",
       "    box-shadow: none;\n",
       "  }\n",
       "\n",
       "  .colab-df-spinner {\n",
       "    border: 2px solid var(--fill-color);\n",
       "    border-color: transparent;\n",
       "    border-bottom-color: var(--fill-color);\n",
       "    animation:\n",
       "      spin 1s steps(1) infinite;\n",
       "  }\n",
       "\n",
       "  @keyframes spin {\n",
       "    0% {\n",
       "      border-color: transparent;\n",
       "      border-bottom-color: var(--fill-color);\n",
       "      border-left-color: var(--fill-color);\n",
       "    }\n",
       "    20% {\n",
       "      border-color: transparent;\n",
       "      border-left-color: var(--fill-color);\n",
       "      border-top-color: var(--fill-color);\n",
       "    }\n",
       "    30% {\n",
       "      border-color: transparent;\n",
       "      border-left-color: var(--fill-color);\n",
       "      border-top-color: var(--fill-color);\n",
       "      border-right-color: var(--fill-color);\n",
       "    }\n",
       "    40% {\n",
       "      border-color: transparent;\n",
       "      border-right-color: var(--fill-color);\n",
       "      border-top-color: var(--fill-color);\n",
       "    }\n",
       "    60% {\n",
       "      border-color: transparent;\n",
       "      border-right-color: var(--fill-color);\n",
       "    }\n",
       "    80% {\n",
       "      border-color: transparent;\n",
       "      border-right-color: var(--fill-color);\n",
       "      border-bottom-color: var(--fill-color);\n",
       "    }\n",
       "    90% {\n",
       "      border-color: transparent;\n",
       "      border-bottom-color: var(--fill-color);\n",
       "    }\n",
       "  }\n",
       "</style>\n",
       "\n",
       "  <script>\n",
       "    async function quickchart(key) {\n",
       "      const quickchartButtonEl =\n",
       "        document.querySelector('#' + key + ' button');\n",
       "      quickchartButtonEl.disabled = true;  // To prevent multiple clicks.\n",
       "      quickchartButtonEl.classList.add('colab-df-spinner');\n",
       "      try {\n",
       "        const charts = await google.colab.kernel.invokeFunction(\n",
       "            'suggestCharts', [key], {});\n",
       "      } catch (error) {\n",
       "        console.error('Error during call to suggestCharts:', error);\n",
       "      }\n",
       "      quickchartButtonEl.classList.remove('colab-df-spinner');\n",
       "      quickchartButtonEl.classList.add('colab-df-quickchart-complete');\n",
       "    }\n",
       "    (() => {\n",
       "      let quickchartButtonEl =\n",
       "        document.querySelector('#df-422b0d2f-fc2b-465e-930c-2da6e0ceb87b button');\n",
       "      quickchartButtonEl.style.display =\n",
       "        google.colab.kernel.accessAllowed ? 'block' : 'none';\n",
       "    })();\n",
       "  </script>\n",
       "</div>\n",
       "    </div>\n",
       "  </div>\n"
      ],
      "text/plain": [
       "                                          edge_index  \\\n",
       "0  [[0, 0, 0, 1, 1, 1, 2, 2, 2, 3, 3, 3, 3, 3, 4,...   \n",
       "1  [[0, 0, 0, 1, 1, 1, 2, 2, 2, 2, 3, 3, 3, 3, 4,...   \n",
       "2  [[0, 0, 0, 1, 1, 1, 2, 2, 2, 2, 3, 3, 3, 4, 4,...   \n",
       "3  [[0, 0, 0, 1, 1, 1, 1, 2, 2, 2, 2, 3, 3, 3, 3,...   \n",
       "4  [[0, 0, 0, 0, 1, 1, 1, 1, 1, 2, 2, 2, 3, 3, 3,...   \n",
       "\n",
       "                                           node_feat  y  num_nodes  \n",
       "0  [[1.0, 0.0, 0.0], [1.0, 0.0, 0.0], [1.0, 0.0, ...  0         42  \n",
       "1  [[1.0, 0.0, 0.0], [1.0, 0.0, 0.0], [1.0, 0.0, ...  0         27  \n",
       "2  [[1.0, 0.0, 0.0], [1.0, 0.0, 0.0], [1.0, 0.0, ...  0         10  \n",
       "3  [[1.0, 0.0, 0.0], [1.0, 0.0, 0.0], [1.0, 0.0, ...  0         24  \n",
       "4  [[1.0, 0.0, 0.0], [1.0, 0.0, 0.0], [1.0, 0.0, ...  0         11  "
      ]
     },
     "execution_count": 4,
     "metadata": {},
     "output_type": "execute_result"
    }
   ],
   "source": [
    "# Simplify the 'y' column by extracting values from the lists\n",
    "data['y'] = data['y'].apply(lambda x: x[0])\n",
    "\n",
    "# Display the first few rows of the modified DataFrame\n",
    "data.head()\n"
   ]
  },
  {
   "cell_type": "markdown",
   "metadata": {
    "id": "kYhXxL9yMgdX"
   },
   "source": [
    "The y column has been simplified. Next, considering that the dataset is graph-based, we might need to employ specialized approaches for exploratory data analysis (EDA), data cleaning, and feature processing.\n",
    "\n",
    "For EDA, we could:\n",
    "\n",
    "Analyze the distribution of the number of nodes.\n",
    "Investigate the distribution of the target variable y.\n",
    "Explore the node features' characteristics."
   ]
  },
  {
   "cell_type": "markdown",
   "metadata": {
    "id": "LlyzNXKuMjBn"
   },
   "source": [
    "Let's start the Exploratory Data Analysis (EDA) by analyzing the distribution of the number of nodes in each graph. This will give us an understanding of the sizes of the graphs we are dealing with. Then, we’ll look at the distribution of the target variable y.\n",
    "\n",
    "Distribution of the number of nodes:\n",
    "We’ll visualize the distribution of the num_nodes column.\n",
    "Distribution of the target variable y:\n",
    "We’ll visualize the distribution of the y column to understand the balance of the target classes.\n",
    "Let's begin with the first part."
   ]
  },
  {
   "cell_type": "code",
   "execution_count": 5,
   "metadata": {
    "colab": {
     "base_uri": "https://localhost:8080/",
     "height": 1000
    },
    "id": "PWmYjMnyMkwZ",
    "outputId": "937e0d5b-798b-4216-da45-7b2f3b298eda"
   },
   "outputs": [
    {
     "data": {
      "image/png": "[encoded data removed]",
      "text/plain": [
       "<Figure size 1000x1000 with 2 Axes>"
      ]
     },
     "metadata": {},
     "output_type": "display_data"
    }
   ],
   "source": [
    "import matplotlib.pyplot as plt\n",
    "import seaborn as sns\n",
    "\n",
    "# Set the aesthetic style of the plots\n",
    "sns.set_style(\"whitegrid\")\n",
    "\n",
    "# Create a figure with two subplots\n",
    "fig, axs = plt.subplots(nrows=2, figsize=(10, 10))\n",
    "\n",
    "# Plotting the distribution of the number of nodes\n",
    "sns.histplot(data['num_nodes'], bins=30, kde=True, ax=axs[0])\n",
    "axs[0].set_title('Distribution of Number of Nodes')\n",
    "axs[0].set_xlabel('Number of Nodes')\n",
    "axs[0].set_ylabel('Frequency')\n",
    "\n",
    "# Plotting the distribution of the target variable y\n",
    "sns.countplot(x='y', data=data, ax=axs[1])\n",
    "axs[1].set_title('Distribution of Target Variable (y)')\n",
    "axs[1].set_xlabel('y')\n",
    "axs[1].set_ylabel('Count')\n",
    "\n",
    "plt.tight_layout()\n",
    "plt.show()\n"
   ]
  },
  {
   "cell_type": "markdown",
   "metadata": {
    "id": "3M0bb7ufMqQE"
   },
   "source": [
    "Here are the visualizations explaining the distributions:\n",
    "\n",
    "Distribution of the Number of Nodes:\n",
    "Most graphs have fewer than 50 nodes, but there are graphs with more than 100 nodes as well.\n",
    "Distribution of the Target Variable\n",
    "y:\n",
    "The target variable appears to be binary (0 and 1).\n",
    "The classes seem balanced, with a similar number of records for each class.\n",
    "Next, we could analyze the node features. However, since the node features are embedded in lists within the node_feat column, we might need to extract and analyze them separately."
   ]
  },
  {
   "cell_type": "markdown",
   "metadata": {
    "id": "3R__Mi1vMzax"
   },
   "source": [
    "The dataset seems to be structured as graphs, where each molecule is represented as a graph with nodes and edges. The node features and edge indices are provided, and the target variable is binary, indicating whether a molecule is an enzyme or not.\n",
    "\n",
    "Given this context, let’s focus on preparing the data for a graph-based machine learning model. Here are the steps we can follow:\n",
    "\n",
    "Node Feature Analysis:\n",
    "Extract and analyze the node features to understand their distribution and importance.\n",
    "Graph-based Machine Learning Preparation:\n",
    "Ensure that the data is in a suitable format for graph-based machine learning models.\n",
    "Model Building:\n",
    "Build graph-based machine learning models for binary classification.\n",
    "Evaluate the models using 10-fold cross-validation and accuracy as the metric."
   ]
  },
  {
   "cell_type": "code",
   "execution_count": 6,
   "metadata": {
    "colab": {
     "base_uri": "https://localhost:8080/"
    },
    "id": "oK0zgr-yM2YQ",
    "outputId": "3637cc5f-f542-4915-c8c2-346522a66c82"
   },
   "outputs": [
    {
     "data": {
      "text/plain": [
       "((43471, 3),\n",
       " array([0.48655425, 0.48149341, 0.03195234]),\n",
       " array([0.49981918, 0.49965739, 0.17587321]))"
      ]
     },
     "execution_count": 6,
     "metadata": {},
     "output_type": "execute_result"
    }
   ],
   "source": [
    "import numpy as np\n",
    "\n",
    "# Function to extract node features and calculate mean and standard deviation\n",
    "def extract_node_features(data):\n",
    "    all_node_features = []\n",
    "    mean_features = []\n",
    "    std_features = []\n",
    "\n",
    "    for index, row in data.iterrows():\n",
    "        node_features = np.array(row['node_feat'])\n",
    "        all_node_features.extend(node_features)\n",
    "\n",
    "        # Calculate mean and standard deviation of node features for each graph\n",
    "        mean_features.append(np.mean(node_features, axis=0))\n",
    "        std_features.append(np.std(node_features, axis=0))\n",
    "\n",
    "    return np.array(all_node_features), np.array(mean_features), np.array(std_features)\n",
    "\n",
    "# Extracting node features, mean and standard deviation\n",
    "all_node_features, mean_features, std_features = extract_node_features(data)\n",
    "\n",
    "# Displaying the shape of the extracted features and basic statistics\n",
    "all_node_features.shape, np.mean(all_node_features, axis=0), np.std(all_node_features, axis=0)\n"
   ]
  },
  {
   "cell_type": "markdown",
   "metadata": {
    "id": "0EI9oPSHM6Sf"
   },
   "source": [
    "The node features have been successfully extracted. Each node in the dataset has three features, and there are a total of 43,471 nodes across all graphs. Here are the mean and standard deviation of each node feature across all nodes:\n",
    "\n",
    "Feature 1:\n",
    "\n",
    "Mean:\n",
    "0.487\n",
    "\n",
    "Standard Deviation:\n",
    "0.500\n",
    "\n",
    "Feature 2:\n",
    "\n",
    "Mean:\n",
    "0.481\n",
    "\n",
    "Standard Deviation:\n",
    "0.500\n",
    "\n",
    "Feature 3:\n",
    "\n",
    "Mean:\n",
    "0.032\n",
    "\n",
    "Standard Deviation:\n",
    "0.176\n",
    "\n",
    "These statistics give us an overview of the distribution of values in each feature. Next, we could visualize the distribution of these features to get a better understanding of their variability and distribution."
   ]
  },
  {
   "cell_type": "code",
   "execution_count": 7,
   "metadata": {
    "colab": {
     "base_uri": "https://localhost:8080/",
     "height": 1000
    },
    "id": "1RInXnA8NRDe",
    "outputId": "76fd5344-fde4-489f-e906-c3c5c084a1b1"
   },
   "outputs": [
    {
     "data": {
      "image/png": "[encoded data removed]",
      "text/plain": [
       "<Figure size 1000x1500 with 3 Axes>"
      ]
     },
     "metadata": {},
     "output_type": "display_data"
    }
   ],
   "source": [
    "# Creating histograms for each node feature\n",
    "fig, axs = plt.subplots(nrows=3, figsize=(10, 15))\n",
    "\n",
    "# Labels for each feature\n",
    "feature_labels = ['Feature 1', 'Feature 2', 'Feature 3']\n",
    "\n",
    "# Plotting histograms for each feature\n",
    "for i, ax in enumerate(axs):\n",
    "    sns.histplot(all_node_features[:, i], bins=30, kde=True, ax=ax)\n",
    "    ax.set_title(f'Distribution of {feature_labels[i]}')\n",
    "    ax.set_xlabel(f'{feature_labels[i]} Value')\n",
    "    ax.set_ylabel('Frequency')\n",
    "\n",
    "plt.tight_layout()\n",
    "plt.show()\n"
   ]
  },
  {
   "cell_type": "markdown",
   "metadata": {
    "id": "Yy0Qsh2pNUTo"
   },
   "source": [
    "The histograms show the distribution of values for each of the three node features across all nodes:\n",
    "\n",
    "Feature 1 and Feature 2:\n",
    "\n",
    "These features are binary, as they primarily take values of 0 or 1.\n",
    "Feature 3:\n",
    "\n",
    "This feature takes a small range of values, primarily between 0 and 0.2.\n",
    "It seems like this feature might be representing some specific characteristic or property of the nodes, as it's not binary like the other two features.\n",
    "Given these insights, we might consider treating Feature 3 differently during preprocessing and model building due to its distinct nature.\n",
    "\n",
    "The next step could be preparing the dataset for graph-based machine learning models, ensuring that the data is in a suitable format, and possibly considering different treatments for the various features based on their characteristics."
   ]
  },
  {
   "cell_type": "code",
   "execution_count": 8,
   "metadata": {
    "colab": {
     "base_uri": "https://localhost:8080/"
    },
    "id": "qA3IR0w4Nav3",
    "outputId": "6f3e935b-7728-4e07-dd20-1108cb8dca19"
   },
   "outputs": [
    {
     "data": {
      "text/plain": [
       "((890, 4), (111, 4), (112, 4))"
      ]
     },
     "execution_count": 8,
     "metadata": {},
     "output_type": "execute_result"
    }
   ],
   "source": [
    "from sklearn.model_selection import train_test_split\n",
    "\n",
    "# Splitting the data into training, validation, and test sets with stratification\n",
    "train_data, temp_data, train_y, temp_y = train_test_split(data, data['y'], test_size=0.2, stratify=data['y'], random_state=42)\n",
    "valid_data, test_data, valid_y, test_y = train_test_split(temp_data, temp_y, test_size=0.5, stratify=temp_y, random_state=42)\n",
    "\n",
    "# Displaying the shape of the splits\n",
    "train_data.shape, valid_data.shape, test_data.shape\n"
   ]
  },
  {
   "cell_type": "markdown",
   "metadata": {
    "id": "bVti4SsYNgSC"
   },
   "source": [
    "The data has been successfully split into training, validation, and test sets:\n",
    "\n",
    "Training set: 890 samples\n",
    "Validation set: 111 samples\n",
    "Test set: 112 samples\n"
   ]
  },
  {
   "cell_type": "markdown",
   "metadata": {
    "id": "C8Dizpz4NmZn"
   },
   "source": [
    " To format the data for PyTorch Geometric (PyG), we'll convert each graph into a Data object, which is a data structure used by PyG to represent graphs. Each Data object will contain:\n",
    "\n",
    "x: Node feature matrix\n",
    "edge_index: Edge connectivity\n",
    "y: Target label\n",
    "After creating the Data objects, we'll have a list of these objects ready to be used in a graph neural network."
   ]
  },
  {
   "cell_type": "code",
   "execution_count": 9,
   "metadata": {
    "colab": {
     "base_uri": "https://localhost:8080/"
    },
    "id": "kWNn7dz5NtkH",
    "outputId": "6cde0950-1bab-426d-bfb5-40fdfaccf1c8"
   },
   "outputs": [
    {
     "name": "stdout",
     "output_type": "stream",
     "text": [
      "Requirement already satisfied: torch in /usr/local/lib/python3.10/dist-packages (2.1.0+cu118)\n",
      "Requirement already satisfied: torchvision in /usr/local/lib/python3.10/dist-packages (0.16.0+cu118)\n",
      "Requirement already satisfied: torch-geometric in /usr/local/lib/python3.10/dist-packages (2.4.0)\n",
      "Requirement already satisfied: filelock in /usr/local/lib/python3.10/dist-packages (from torch) (3.12.4)\n",
      "Requirement already satisfied: typing-extensions in /usr/local/lib/python3.10/dist-packages (from torch) (4.5.0)\n",
      "Requirement already satisfied: sympy in /usr/local/lib/python3.10/dist-packages (from torch) (1.12)\n",
      "Requirement already satisfied: networkx in /usr/local/lib/python3.10/dist-packages (from torch) (3.2)\n",
      "Requirement already satisfied: jinja2 in /usr/local/lib/python3.10/dist-packages (from torch) (3.1.2)\n",
      "Requirement already satisfied: fsspec in /usr/local/lib/python3.10/dist-packages (from torch) (2023.6.0)\n",
      "Requirement already satisfied: triton==2.1.0 in /usr/local/lib/python3.10/dist-packages (from torch) (2.1.0)\n",
      "Requirement already satisfied: numpy in /usr/local/lib/python3.10/dist-packages (from torchvision) (1.23.5)\n",
      "Requirement already satisfied: requests in /usr/local/lib/python3.10/dist-packages (from torchvision) (2.31.0)\n",
      "Requirement already satisfied: pillow!=8.3.*,>=5.3.0 in /usr/local/lib/python3.10/dist-packages (from torchvision) (9.4.0)\n",
      "Requirement already satisfied: tqdm in /usr/local/lib/python3.10/dist-packages (from torch-geometric) (4.66.1)\n",
      "Requirement already satisfied: scipy in /usr/local/lib/python3.10/dist-packages (from torch-geometric) (1.11.3)\n",
      "Requirement already satisfied: pyparsing in /usr/local/lib/python3.10/dist-packages (from torch-geometric) (3.1.1)\n",
      "Requirement already satisfied: scikit-learn in /usr/local/lib/python3.10/dist-packages (from torch-geometric) (1.2.2)\n",
      "Requirement already satisfied: psutil>=5.8.0 in /usr/local/lib/python3.10/dist-packages (from torch-geometric) (5.9.5)\n",
      "Requirement already satisfied: MarkupSafe>=2.0 in /usr/local/lib/python3.10/dist-packages (from jinja2->torch) (2.1.3)\n",
      "Requirement already satisfied: charset-normalizer<4,>=2 in /usr/local/lib/python3.10/dist-packages (from requests->torchvision) (3.3.1)\n",
      "Requirement already satisfied: idna<4,>=2.5 in /usr/local/lib/python3.10/dist-packages (from requests->torchvision) (3.4)\n",
      "Requirement already satisfied: urllib3<3,>=1.21.1 in /usr/local/lib/python3.10/dist-packages (from requests->torchvision) (2.0.7)\n",
      "Requirement already satisfied: certifi>=2017.4.17 in /usr/local/lib/python3.10/dist-packages (from requests->torchvision) (2023.7.22)\n",
      "Requirement already satisfied: joblib>=1.1.1 in /usr/local/lib/python3.10/dist-packages (from scikit-learn->torch-geometric) (1.3.2)\n",
      "Requirement already satisfied: threadpoolctl>=2.0.0 in /usr/local/lib/python3.10/dist-packages (from scikit-learn->torch-geometric) (3.2.0)\n",
      "Requirement already satisfied: mpmath>=0.19 in /usr/local/lib/python3.10/dist-packages (from sympy->torch) (1.3.0)\n"
     ]
    }
   ],
   "source": [
    "!pip install torch torchvision torch-geometric\n"
   ]
  },
  {
   "cell_type": "code",
   "execution_count": 10,
   "metadata": {
    "colab": {
     "base_uri": "https://localhost:8080/"
    },
    "id": "FTUSISvLNoM9",
    "outputId": "b8847e42-598a-4953-939b-750edcb06e84"
   },
   "outputs": [
    {
     "data": {
      "text/plain": [
       "(890, 111, 112)"
      ]
     },
     "execution_count": 10,
     "metadata": {},
     "output_type": "execute_result"
    }
   ],
   "source": [
    "import torch\n",
    "from torch_geometric.data import Data\n",
    "\n",
    "# Function to convert rows of the DataFrame into PyG Data objects\n",
    "def row_to_data(row):\n",
    "    # Converting node features and edge indices to tensors\n",
    "    x = torch.tensor(row['node_feat'], dtype=torch.float)\n",
    "    edge_index = torch.tensor(row['edge_index'], dtype=torch.long)\n",
    "\n",
    "    # Creating a Data object\n",
    "    data = Data(x=x, edge_index=edge_index, y=row['y'])\n",
    "    return data\n",
    "\n",
    "# Applying the function to each row in the training, validation, and test sets\n",
    "train_dataset = train_data.apply(row_to_data, axis=1).tolist()\n",
    "valid_dataset = valid_data.apply(row_to_data, axis=1).tolist()\n",
    "test_dataset = test_data.apply(row_to_data, axis=1).tolist()\n",
    "\n",
    "# Displaying the number of graphs in each dataset\n",
    "len(train_dataset), len(valid_dataset), len(test_dataset)\n"
   ]
  },
  {
   "cell_type": "code",
   "execution_count": 11,
   "metadata": {
    "id": "MjkZ6BpMN-qh"
   },
   "outputs": [],
   "source": [
    "from torch_geometric.nn import global_mean_pool\n",
    "\n",
    "class GCNModel(torch.nn.Module):\n",
    "    def __init__(self):\n",
    "        super(GCNModel, self).__init__()\n",
    "        self.conv1 = GCNConv(3, 16)\n",
    "        self.conv2 = GCNConv(16, 16)\n",
    "        self.fc = torch.nn.Linear(16, 2)  # 2 classes\n",
    "\n",
    "    def forward(self, data):\n",
    "        x, edge_index, batch = data.x, data.edge_index, data.batch\n",
    "        x = self.conv1(x, edge_index)\n",
    "        x = F.relu(x)\n",
    "        x = self.conv2(x, edge_index)\n",
    "        x = F.relu(x)\n",
    "        x = global_mean_pool(x, batch)  # Pooling to get graph-level representation\n",
    "        x = self.fc(x)\n",
    "        return F.log_softmax(x, dim=1)\n"
   ]
  },
  {
   "cell_type": "code",
   "execution_count": 12,
   "metadata": {
    "id": "AP_-SiiZO3jJ"
   },
   "outputs": [],
   "source": [
    "def train():\n",
    "    model.train()\n",
    "    for batch in train_loader:\n",
    "        optimizer.zero_grad()\n",
    "        out = model(batch)\n",
    "        loss = criterion(out, batch.y)\n",
    "        loss.backward()\n",
    "        optimizer.step()\n"
   ]
  },
  {
   "cell_type": "code",
   "execution_count": 13,
   "metadata": {
    "colab": {
     "base_uri": "https://localhost:8080/"
    },
    "id": "8k43QxqGOCO_",
    "outputId": "8e747b10-4e42-4586-9faa-85d58296b884"
   },
   "outputs": [
    {
     "name": "stderr",
     "output_type": "stream",
     "text": [
      "/usr/local/lib/python3.10/dist-packages/torch_geometric/deprecation.py:22: UserWarning: 'data.DataLoader' is deprecated, use 'loader.DataLoader' instead\n",
      "  warnings.warn(out)\n"
     ]
    }
   ],
   "source": [
    "# DataLoader for batching\n",
    "import torch.nn.functional as F\n",
    "from torch_geometric.data import Data, DataLoader\n",
    "from torch_geometric.nn import GCNConv\n",
    "from sklearn.model_selection import train_test_split\n",
    "\n",
    "train_loader = DataLoader(train_dataset, batch_size=32, shuffle=True)\n",
    "\n",
    "# Model, optimizer, and loss function\n",
    "model = GCNModel()\n",
    "optimizer = torch.optim.Adam(model.parameters(), lr=0.01)\n",
    "criterion = torch.nn.CrossEntropyLoss()\n"
   ]
  },
  {
   "cell_type": "code",
   "execution_count": 14,
   "metadata": {
    "id": "PJp6HW0yOVhX"
   },
   "outputs": [],
   "source": [
    "# Training function\n",
    "def train():\n",
    "    model.train()\n",
    "    for batch in train_loader:\n",
    "        optimizer.zero_grad()\n",
    "        out = model(batch)\n",
    "        loss = criterion(out, batch.y)\n",
    "        loss.backward()\n",
    "        optimizer.step()\n",
    "\n",
    "# Evaluation function\n",
    "def evaluate(loader):\n",
    "    model.eval()\n",
    "    correct = 0\n",
    "    for batch in loader:\n",
    "        with torch.no_grad():\n",
    "            pred = model(batch).max(dim=1)[1]\n",
    "            correct += pred.eq(batch.y).sum().item()\n",
    "    return correct / len(loader.dataset)\n"
   ]
  },
  {
   "cell_type": "code",
   "execution_count": 15,
   "metadata": {
    "colab": {
     "base_uri": "https://localhost:8080/"
    },
    "id": "0gK4uHlyOX3u",
    "outputId": "29263e8f-cdcd-464d-aeb5-b926d06b2c02"
   },
   "outputs": [
    {
     "name": "stdout",
     "output_type": "stream",
     "text": [
      "Epoch: 1, Train Acc: 0.5955, Validation Acc: 0.5946\n",
      "Epoch: 2, Train Acc: 0.5955, Validation Acc: 0.5946\n",
      "Epoch: 3, Train Acc: 0.6292, Validation Acc: 0.6216\n",
      "Epoch: 4, Train Acc: 0.6270, Validation Acc: 0.6036\n",
      "Epoch: 5, Train Acc: 0.7000, Validation Acc: 0.7117\n",
      "Epoch: 6, Train Acc: 0.6899, Validation Acc: 0.6937\n",
      "Epoch: 7, Train Acc: 0.6831, Validation Acc: 0.6757\n",
      "Epoch: 8, Train Acc: 0.6798, Validation Acc: 0.6847\n",
      "Epoch: 9, Train Acc: 0.6910, Validation Acc: 0.7027\n",
      "Epoch: 10, Train Acc: 0.7079, Validation Acc: 0.7027\n",
      "Epoch: 11, Train Acc: 0.7000, Validation Acc: 0.6577\n",
      "Epoch: 12, Train Acc: 0.6551, Validation Acc: 0.6216\n",
      "Epoch: 13, Train Acc: 0.6652, Validation Acc: 0.6757\n",
      "Epoch: 14, Train Acc: 0.6989, Validation Acc: 0.6937\n",
      "Epoch: 15, Train Acc: 0.6652, Validation Acc: 0.6306\n",
      "Epoch: 16, Train Acc: 0.7157, Validation Acc: 0.7207\n",
      "Epoch: 17, Train Acc: 0.6787, Validation Acc: 0.7207\n",
      "Epoch: 18, Train Acc: 0.6989, Validation Acc: 0.6847\n",
      "Epoch: 19, Train Acc: 0.6978, Validation Acc: 0.7297\n",
      "Epoch: 20, Train Acc: 0.6933, Validation Acc: 0.6757\n",
      "Epoch: 21, Train Acc: 0.6921, Validation Acc: 0.6937\n",
      "Epoch: 22, Train Acc: 0.7056, Validation Acc: 0.6847\n",
      "Epoch: 23, Train Acc: 0.7157, Validation Acc: 0.7117\n",
      "Epoch: 24, Train Acc: 0.7101, Validation Acc: 0.6577\n",
      "Epoch: 25, Train Acc: 0.6933, Validation Acc: 0.7117\n",
      "Epoch: 26, Train Acc: 0.7124, Validation Acc: 0.6757\n",
      "Epoch: 27, Train Acc: 0.7067, Validation Acc: 0.7207\n",
      "Epoch: 28, Train Acc: 0.7191, Validation Acc: 0.7117\n",
      "Epoch: 29, Train Acc: 0.6854, Validation Acc: 0.7027\n",
      "Epoch: 30, Train Acc: 0.7124, Validation Acc: 0.6847\n",
      "Epoch: 31, Train Acc: 0.7169, Validation Acc: 0.7027\n",
      "Epoch: 32, Train Acc: 0.6978, Validation Acc: 0.7207\n",
      "Epoch: 33, Train Acc: 0.7191, Validation Acc: 0.7207\n",
      "Epoch: 34, Train Acc: 0.6921, Validation Acc: 0.7297\n",
      "Epoch: 35, Train Acc: 0.6798, Validation Acc: 0.7027\n",
      "Epoch: 36, Train Acc: 0.7011, Validation Acc: 0.7477\n",
      "Epoch: 37, Train Acc: 0.7146, Validation Acc: 0.7207\n",
      "Epoch: 38, Train Acc: 0.7236, Validation Acc: 0.6847\n",
      "Epoch: 39, Train Acc: 0.6865, Validation Acc: 0.7117\n",
      "Epoch: 40, Train Acc: 0.7169, Validation Acc: 0.7117\n",
      "Epoch: 41, Train Acc: 0.7270, Validation Acc: 0.7117\n",
      "Epoch: 42, Train Acc: 0.7135, Validation Acc: 0.7027\n",
      "Epoch: 43, Train Acc: 0.7191, Validation Acc: 0.7117\n",
      "Epoch: 44, Train Acc: 0.7202, Validation Acc: 0.6757\n",
      "Epoch: 45, Train Acc: 0.7045, Validation Acc: 0.6847\n",
      "Epoch: 46, Train Acc: 0.7090, Validation Acc: 0.7387\n",
      "Epoch: 47, Train Acc: 0.7180, Validation Acc: 0.6757\n",
      "Epoch: 48, Train Acc: 0.7067, Validation Acc: 0.6847\n",
      "Epoch: 49, Train Acc: 0.7112, Validation Acc: 0.7027\n",
      "Epoch: 50, Train Acc: 0.7000, Validation Acc: 0.7207\n",
      "Epoch: 51, Train Acc: 0.7225, Validation Acc: 0.6667\n",
      "Epoch: 52, Train Acc: 0.7146, Validation Acc: 0.7027\n",
      "Epoch: 53, Train Acc: 0.7146, Validation Acc: 0.7207\n",
      "Epoch: 54, Train Acc: 0.7180, Validation Acc: 0.7027\n",
      "Epoch: 55, Train Acc: 0.7067, Validation Acc: 0.7297\n",
      "Epoch: 56, Train Acc: 0.7124, Validation Acc: 0.6847\n",
      "Epoch: 57, Train Acc: 0.7022, Validation Acc: 0.6757\n",
      "Epoch: 58, Train Acc: 0.7079, Validation Acc: 0.6757\n",
      "Epoch: 59, Train Acc: 0.7146, Validation Acc: 0.7117\n",
      "Epoch: 60, Train Acc: 0.6888, Validation Acc: 0.7207\n",
      "Epoch: 61, Train Acc: 0.7281, Validation Acc: 0.6937\n",
      "Epoch: 62, Train Acc: 0.7101, Validation Acc: 0.6486\n",
      "Epoch: 63, Train Acc: 0.7090, Validation Acc: 0.6847\n",
      "Epoch: 64, Train Acc: 0.7292, Validation Acc: 0.6937\n",
      "Epoch: 65, Train Acc: 0.7202, Validation Acc: 0.7117\n",
      "Epoch: 66, Train Acc: 0.7236, Validation Acc: 0.7297\n",
      "Epoch: 67, Train Acc: 0.7247, Validation Acc: 0.6937\n",
      "Epoch: 68, Train Acc: 0.7258, Validation Acc: 0.6937\n",
      "Epoch: 69, Train Acc: 0.7011, Validation Acc: 0.6757\n",
      "Epoch: 70, Train Acc: 0.7090, Validation Acc: 0.6847\n",
      "Epoch: 71, Train Acc: 0.7258, Validation Acc: 0.7117\n",
      "Epoch: 72, Train Acc: 0.7258, Validation Acc: 0.6757\n",
      "Epoch: 73, Train Acc: 0.7079, Validation Acc: 0.7027\n",
      "Epoch: 74, Train Acc: 0.7236, Validation Acc: 0.6667\n",
      "Epoch: 75, Train Acc: 0.7191, Validation Acc: 0.6847\n",
      "Epoch: 76, Train Acc: 0.7236, Validation Acc: 0.7207\n",
      "Epoch: 77, Train Acc: 0.7247, Validation Acc: 0.6847\n",
      "Epoch: 78, Train Acc: 0.7236, Validation Acc: 0.6847\n",
      "Epoch: 79, Train Acc: 0.7169, Validation Acc: 0.6937\n",
      "Epoch: 80, Train Acc: 0.7034, Validation Acc: 0.7027\n",
      "Epoch: 81, Train Acc: 0.7213, Validation Acc: 0.7027\n",
      "Epoch: 82, Train Acc: 0.7180, Validation Acc: 0.6847\n",
      "Epoch: 83, Train Acc: 0.7135, Validation Acc: 0.6847\n",
      "Epoch: 84, Train Acc: 0.7337, Validation Acc: 0.7027\n",
      "Epoch: 85, Train Acc: 0.7292, Validation Acc: 0.7117\n",
      "Epoch: 86, Train Acc: 0.6921, Validation Acc: 0.7207\n",
      "Epoch: 87, Train Acc: 0.6843, Validation Acc: 0.7207\n",
      "Epoch: 88, Train Acc: 0.7101, Validation Acc: 0.6937\n",
      "Epoch: 89, Train Acc: 0.7090, Validation Acc: 0.6847\n",
      "Epoch: 90, Train Acc: 0.7079, Validation Acc: 0.7027\n",
      "Epoch: 91, Train Acc: 0.7247, Validation Acc: 0.6757\n",
      "Epoch: 92, Train Acc: 0.7225, Validation Acc: 0.7117\n",
      "Epoch: 93, Train Acc: 0.7022, Validation Acc: 0.7027\n",
      "Epoch: 94, Train Acc: 0.7180, Validation Acc: 0.7027\n",
      "Epoch: 95, Train Acc: 0.7135, Validation Acc: 0.6847\n",
      "Epoch: 96, Train Acc: 0.7056, Validation Acc: 0.7027\n",
      "Epoch: 97, Train Acc: 0.7213, Validation Acc: 0.6937\n",
      "Epoch: 98, Train Acc: 0.7225, Validation Acc: 0.6937\n",
      "Epoch: 99, Train Acc: 0.7135, Validation Acc: 0.6937\n",
      "Epoch: 100, Train Acc: 0.7236, Validation Acc: 0.7207\n",
      "Test Accuracy: 0.6786\n"
     ]
    }
   ],
   "source": [
    "# Training loop\n",
    "for epoch in range(100):\n",
    "    train()\n",
    "    train_acc = evaluate(train_loader)\n",
    "    valid_acc = evaluate(DataLoader(valid_dataset, batch_size=32))\n",
    "    print(f'Epoch: {epoch+1}, Train Acc: {train_acc:.4f}, Validation Acc: {valid_acc:.4f}')\n",
    "\n",
    "# Test the model\n",
    "test_acc = evaluate(DataLoader(test_dataset, batch_size=32))\n",
    "print(f'Test Accuracy: {test_acc:.4f}')"
   ]
  },
  {
   "cell_type": "markdown",
   "metadata": {
    "id": "n-xVmY5HM19T"
   },
   "source": []
  }
 ],
 "metadata": {
  "colab": {
   "provenance": []
  },
  "kernelspec": {
   "display_name": "Python 3 (ipykernel)",
   "language": "python",
   "name": "python3"
  },
  "language_info": {
   "codemirror_mode": {
    "name": "ipython",
    "version": 3
   },
   "file_extension": ".py",
   "mimetype": "text/x-python",
   "name": "python",
   "nbconvert_exporter": "python",
   "pygments_lexer": "ipython3",
   "version": "3.11.4"
  }
 },
 "nbformat": 4,
 "nbformat_minor": 1
}
